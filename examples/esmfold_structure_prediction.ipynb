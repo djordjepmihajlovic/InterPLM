{
 "cells": [
  {
   "cell_type": "markdown",
   "metadata": {},
   "source": [
    "# ESMFold Structure Prediction\n",
    "\n",
    "This notebook demonstrates how to:\n",
    "1. Get ESM embeddings from a sequence (using existing InterPLM code)\n",
    "2. Predict 3D structure using ESMFold\n",
    "3. Visualize the predicted structure"
   ]
  },
  {
   "cell_type": "code",
   "execution_count": 1,
   "metadata": {},
   "outputs": [
    {
     "name": "stdout",
     "output_type": "stream",
     "text": [
      "Intel MKL WARNING: Support of Intel(R) Streaming SIMD Extensions 4.2 (Intel(R) SSE4.2) enabled only processors has been deprecated. Intel oneAPI Math Kernel Library 2025.0 will require Intel(R) Advanced Vector Extensions (Intel(R) AVX) instructions.\n",
      "Intel MKL WARNING: Support of Intel(R) Streaming SIMD Extensions 4.2 (Intel(R) SSE4.2) enabled only processors has been deprecated. Intel oneAPI Math Kernel Library 2025.0 will require Intel(R) Advanced Vector Extensions (Intel(R) AVX) instructions.\n"
     ]
    },
    {
     "name": "stderr",
     "output_type": "stream",
     "text": [
      "/Users/siddharthsetlur/opt/anaconda3/envs/interplm/lib/python3.11/site-packages/tqdm/auto.py:21: TqdmWarning: IProgress not found. Please update jupyter and ipywidgets. See https://ipywidgets.readthedocs.io/en/stable/user_install.html\n",
      "  from .autonotebook import tqdm as notebook_tqdm\n"
     ]
    }
   ],
   "source": [
    "import torch\n",
    "from transformers import AutoTokenizer, EsmForProteinFolding\n",
    "from interplm.embedders.esm import ESM\n",
    "import py3Dmol\n",
    "import numpy as np\n",
    "from pathlib import Path"
   ]
  },
  {
   "cell_type": "markdown",
   "metadata": {},
   "source": [
    "## 1. Get ESM Embeddings (Your Current Approach)"
   ]
  },
  {
   "cell_type": "code",
   "execution_count": 2,
   "metadata": {},
   "outputs": [
    {
     "name": "stdout",
     "output_type": "stream",
     "text": [
      "Sequence length: 65\n",
      "Embedding shape: (65, 320)\n"
     ]
    }
   ],
   "source": [
    "# Example protein sequence\n",
    "sequence = \"MKTVRQERLKSIVRILERSKEPVSGAQLAEELSVSRQVIVQDIAYLRSLGYNIVATPRGYVLAGG\"\n",
    "\n",
    "# Get ESM embeddings using existing InterPLM code\n",
    "esm_embedder = ESM(model_name=\"facebook/esm2_t6_8M_UR50D\")\n",
    "embeddings = esm_embedder.embed_single_sequence(sequence, layer=4)\n",
    "\n",
    "print(f\"Sequence length: {len(sequence)}\")\n",
    "print(f\"Embedding shape: {embeddings.shape}\")  # (seq_len, 320)"
   ]
  },
  {
   "cell_type": "markdown",
   "metadata": {},
   "source": [
    "## 2. Predict 3D Structure with ESMFold"
   ]
  },
  {
   "cell_type": "code",
   "execution_count": 3,
   "metadata": {},
   "outputs": [
    {
     "name": "stderr",
     "output_type": "stream",
     "text": [
      "/Users/siddharthsetlur/opt/anaconda3/envs/interplm/lib/python3.11/site-packages/transformers/tokenization_utils_base.py:1601: FutureWarning: `clean_up_tokenization_spaces` was not set. It will be set to `True` by default. This behavior will be depracted in transformers v4.45, and will be then set to `False` by default. For more details check this issue: https://github.com/huggingface/transformers/issues/31884\n",
      "  warnings.warn(\n",
      "/Users/siddharthsetlur/opt/anaconda3/envs/interplm/lib/python3.11/site-packages/torch/_utils.py:831: UserWarning: TypedStorage is deprecated. It will be removed in the future and UntypedStorage will be the only storage class. This should only matter to you if you are using storages directly.  To access UntypedStorage directly, use tensor.untyped_storage() instead of tensor.storage()\n",
      "  return self.fget.__get__(instance, owner)()\n",
      "Some weights of EsmForProteinFolding were not initialized from the model checkpoint at facebook/esmfold_v1 and are newly initialized: ['esm.contact_head.regression.bias', 'esm.contact_head.regression.weight']\n",
      "You should probably TRAIN this model on a down-stream task to be able to use it for predictions and inference.\n"
     ]
    },
    {
     "name": "stdout",
     "output_type": "stream",
     "text": [
      "Model dtype: torch.float32\n",
      "ESMFold loaded on cpu\n"
     ]
    }
   ],
   "source": [
    "# Load ESMFold model (this will download ~15GB on first run)\n",
    "tokenizer = AutoTokenizer.from_pretrained(\"facebook/esmfold_v1\")\n",
    "model = EsmForProteinFolding.from_pretrained(\"facebook/esmfold_v1\", torch_dtype=torch.float32)\n",
    "model.float()\n",
    "# Move to GPU if available\n",
    "device = torch.device('cuda' if torch.cuda.is_available() else 'cpu')\n",
    "model = model.to(device)\n",
    "model.eval()\n",
    "print(f\"Model dtype: {next(model.parameters()).dtype}\")  # Should say torch.float32\n",
    "\n",
    "print(f\"ESMFold loaded on {device}\")"
   ]
  },
  {
   "cell_type": "code",
   "execution_count": 4,
   "metadata": {},
   "outputs": [
    {
     "name": "stdout",
     "output_type": "stream",
     "text": [
      "Predicted structure shape: (65, 14, 3)\n",
      "Mean pLDDT confidence: 0.80\n"
     ]
    }
   ],
   "source": [
    "# Tokenize and predict structure\n",
    "tokenized_input = tokenizer([sequence], return_tensors=\"pt\", add_special_tokens=False)\n",
    "tokenized_input = {k: v.to(device) for k, v in tokenized_input.items()}\n",
    "\n",
    "with torch.no_grad():\n",
    "    output = model(**tokenized_input)\n",
    "\n",
    "# Extract predicted structure\n",
    "# output contains:\n",
    "# - positions: 3D coordinates of atoms\n",
    "# - plddt: per-residue confidence scores (0-100)\n",
    "# - ptm: predicted template modeling score\n",
    "\n",
    "positions = output[\"positions\"][-1, 0].cpu().numpy()  # (seq_len, 14, 3) - CA, CB, etc.\n",
    "plddt = output[\"plddt\"][0].cpu().numpy()  # (seq_len,) confidence scores\n",
    "\n",
    "print(f\"Predicted structure shape: {positions.shape}\")\n",
    "print(f\"Mean pLDDT confidence: {plddt.mean():.2f}\")"
   ]
  },
  {
   "cell_type": "code",
   "execution_count": 6,
   "metadata": {},
   "outputs": [],
   "source": [
    "with torch.no_grad():\n",
    "    output = model.infer_pdb(sequence)\n",
    "\n",
    "with open(\"result.pdb\", \"w\") as f:\n",
    "    f.write(output)"
   ]
  },
  {
   "cell_type": "markdown",
   "metadata": {},
   "source": [
    "## 6. Get Both Embeddings and Structure in One Pipeline"
   ]
  },
  {
   "cell_type": "code",
   "execution_count": 4,
   "metadata": {},
   "outputs": [
    {
     "name": "stdout",
     "output_type": "stream",
     "text": [
      "Getting ESM embeddings...\n",
      "Predicting structure with ESMFold...\n"
     ]
    },
    {
     "name": "stderr",
     "output_type": "stream",
     "text": [
      "/Users/siddharthsetlur/opt/anaconda3/envs/interplm/lib/python3.11/site-packages/transformers/tokenization_utils_base.py:1601: FutureWarning: `clean_up_tokenization_spaces` was not set. It will be set to `True` by default. This behavior will be depracted in transformers v4.45, and will be then set to `False` by default. For more details check this issue: https://github.com/huggingface/transformers/issues/31884\n",
      "  warnings.warn(\n",
      "Some weights of EsmForProteinFolding were not initialized from the model checkpoint at facebook/esmfold_v1 and are newly initialized: ['esm.contact_head.regression.bias', 'esm.contact_head.regression.weight']\n",
      "You should probably TRAIN this model on a down-stream task to be able to use it for predictions and inference.\n"
     ]
    },
    {
     "name": "stdout",
     "output_type": "stream",
     "text": [
      "\n",
      "Results:\n",
      "  Sequence length: 65\n",
      "  Embeddings shape: (65, 320)\n"
     ]
    }
   ],
   "source": [
    "def process_sequence_full_pipeline(sequence, esm_layer=4):\n",
    "    \"\"\"Complete pipeline: ESM embeddings + ESMFold structure prediction.\"\"\"\n",
    "    \n",
    "    # 1. Get ESM embeddings\n",
    "    print(\"Getting ESM embeddings...\")\n",
    "    esm_embedder = ESM(model_name=\"facebook/esm2_t6_8M_UR50D\")\n",
    "    embeddings = esm_embedder.embed_single_sequence(sequence, layer=esm_layer)\n",
    "    \n",
    "    # 2. Predict structure with ESMFold\n",
    "    print(\"Predicting structure with ESMFold...\")\n",
    "    tokenizer = AutoTokenizer.from_pretrained(\"facebook/esmfold_v1\")\n",
    "    model = EsmForProteinFolding.from_pretrained(\"facebook/esmfold_v1\")\n",
    "    model.float()\n",
    "    device = torch.device('cuda' if torch.cuda.is_available() else 'cpu')\n",
    "    model = model.to(device)\n",
    "    model.eval()\n",
    "        \n",
    "    \n",
    "    # tokenized_input = tokenizer([sequence], return_tensors=\"pt\", add_special_tokens=False)\n",
    "    # tokenized_input = {k: v.to(device) for k, v in tokenized_input.items()}\n",
    "    \n",
    "    with torch.no_grad():\n",
    "        output = model.infer_pdb(sequence)\n",
    "    \n",
    "    # 3. Extract results\n",
    "    # pdb_string = convert_outputs_to_pdb(output, sequence)\n",
    "    # plddt = output[\"plddt\"][0].cpu().numpy()\n",
    "    \n",
    "    return {\n",
    "        'sequence': sequence,\n",
    "        'embeddings': embeddings,\n",
    "        'pdb_string': output,\n",
    "        # 'plddt': plddt,\n",
    "        # 'mean_plddt': plddt.mean()\n",
    "    }\n",
    "\n",
    "# Test it\n",
    "results = process_sequence_full_pipeline(sequence)\n",
    "print(f\"\\nResults:\")\n",
    "print(f\"  Sequence length: {len(results['sequence'])}\")\n",
    "print(f\"  Embeddings shape: {results['embeddings'].shape}\")\n",
    "# print(f\"  Mean confidence (pLDDT): {results['mean_plddt']:.2f}\")"
   ]
  },
  {
   "cell_type": "code",
   "execution_count": 6,
   "metadata": {},
   "outputs": [
    {
     "data": {
      "text/plain": [
       "'PARENT N/A\\nATOM      1  N   MET A   1       3.858  -6.128 -16.819  1.00  0.57           N  \\nATOM      2  CA  MET A   1       3.590  -6.533 -15.442  1.00  0.60           C  \\nATOM      3  C   MET A   1       4.452  -5.742 -14.465  1.00  0.59           C  \\nATOM      4  CB  MET A   1       3.839  -8.032 -15.263  1.00  0.51           C  \\nATOM      5  O   MET A   1       3.959  -5.263 -13.442  1.00  0.57           O  \\nATOM      6  CG  MET A   1       2.757  -8.743 -14.467  1.00  0.48           C  \\nATOM      7  SD  MET A   1       2.946 -10.568 -14.496  1.00  0.54           S  \\nATOM      8  CE  MET A   1       4.247 -10.774 -13.248  1.00  0.44           C  \\nATOM      9  N   LYS A   2       5.804  -5.698 -14.742  1.00  0.75           N  \\nATOM     10  CA  LYS A   2       6.714  -4.947 -13.882  1.00  0.77           C  \\nATOM     11  C   LYS A   2       6.332  -3.471 -13.834  1.00  0.78           C  \\nATOM     12  CB  LYS A   2       8.157  -5.100 -14.363  1.00  0.69           C  \\nATOM     13  O   LYS A   2       6.414  -2.837 -12.780  1.00  0.75           O  \\nATOM     14  CG  LYS A   2       8.811  -6.412 -13.955  1.00  0.60           C  \\nATOM     15  CD  LYS A   2      10.283  -6.447 -14.344  1.00  0.59           C  \\nATOM     16  CE  LYS A   2      10.920  -7.788 -14.004  1.00  0.55           C  \\nATOM     17  NZ  LYS A   2      12.362  -7.831 -14.390  1.00  0.47           N  \\nATOM     18  N   THR A   3       5.805  -3.102 -14.976  1.00  0.84           N  \\nATOM     19  CA  THR A   3       5.456  -1.688 -15.059  1.00  0.85           C  \\nATOM     20  C   THR A   3       4.242  -1.378 -14.188  1.00  0.87           C  \\nATOM     21  CB  THR A   3       5.169  -1.267 -16.512  1.00  0.78           C  \\nATOM     22  O   THR A   3       4.195  -0.339 -13.525  1.00  0.85           O  \\nATOM     23  CG2 THR A   3       5.001   0.244 -16.625  1.00  0.59           C  \\nATOM     24  OG1 THR A   3       6.258  -1.680 -17.347  1.00  0.56           O  \\nATOM     25  N   VAL A   4       3.347  -2.282 -14.198  1.00  0.89           N  \\nATOM     26  CA  VAL A   4       2.126  -2.051 -13.434  1.00  0.90           C  \\nATOM     27  C   VAL A   4       2.448  -2.008 -11.943  1.00  0.91           C  \\nATOM     28  CB  VAL A   4       1.064  -3.137 -13.719  1.00  0.87           C  \\nATOM     29  O   VAL A   4       1.956  -1.139 -11.219  1.00  0.90           O  \\nATOM     30  CG1 VAL A   4      -0.138  -2.974 -12.791  1.00  0.77           C  \\nATOM     31  CG2 VAL A   4       0.626  -3.084 -15.182  1.00  0.77           C  \\nATOM     32  N   ARG A   5       3.288  -2.898 -11.452  1.00  0.92           N  \\nATOM     33  CA  ARG A   5       3.658  -2.898 -10.041  1.00  0.93           C  \\nATOM     34  C   ARG A   5       4.436  -1.637  -9.678  1.00  0.93           C  \\nATOM     35  CB  ARG A   5       4.485  -4.140  -9.701  1.00  0.92           C  \\nATOM     36  O   ARG A   5       4.228  -1.059  -8.610  1.00  0.92           O  \\nATOM     37  CG  ARG A   5       4.770  -4.304  -8.217  1.00  0.90           C  \\nATOM     38  CD  ARG A   5       5.564  -5.571  -7.931  1.00  0.89           C  \\nATOM     39  NE  ARG A   5       5.778  -5.762  -6.500  1.00  0.87           N  \\nATOM     40  NH1 ARG A   5       7.756  -6.932  -6.742  1.00  0.81           N  \\nATOM     41  NH2 ARG A   5       6.911  -6.519  -4.651  1.00  0.80           N  \\nATOM     42  CZ  ARG A   5       6.814  -6.404  -5.967  1.00  0.85           C  \\nATOM     43  N   GLN A   6       5.329  -1.240 -10.546  1.00  0.92           N  \\nATOM     44  CA  GLN A   6       6.098  -0.025 -10.294  1.00  0.92           C  \\nATOM     45  C   GLN A   6       5.180   1.184 -10.141  1.00  0.93           C  \\nATOM     46  CB  GLN A   6       7.103   0.218 -11.421  1.00  0.90           C  \\nATOM     47  O   GLN A   6       5.391   2.022  -9.261  1.00  0.92           O  \\nATOM     48  CG  GLN A   6       8.281  -0.747 -11.413  1.00  0.80           C  \\nATOM     49  CD  GLN A   6       9.177  -0.589 -12.627  1.00  0.75           C  \\nATOM     50  NE2 GLN A   6      10.413  -1.066 -12.518  1.00  0.64           N  \\nATOM     51  OE1 GLN A   6       8.762  -0.044 -13.654  1.00  0.70           O  \\nATOM     52  N   GLU A   7       4.216   1.203 -11.053  1.00  0.92           N  \\nATOM     53  CA  GLU A   7       3.266   2.307 -10.959  1.00  0.92           C  \\nATOM     54  C   GLU A   7       2.457   2.231  -9.668  1.00  0.93           C  \\nATOM     55  CB  GLU A   7       2.327   2.313 -12.168  1.00  0.90           C  \\nATOM     56  O   GLU A   7       2.171   3.258  -9.047  1.00  0.92           O  \\nATOM     57  CG  GLU A   7       3.000   2.730 -13.468  1.00  0.80           C  \\nATOM     58  CD  GLU A   7       3.667   4.094 -13.387  1.00  0.76           C  \\nATOM     59  OE1 GLU A   7       3.047   5.043 -12.856  1.00  0.71           O  \\nATOM     60  OE2 GLU A   7       4.820   4.214 -13.858  1.00  0.68           O  \\nATOM     61  N   ARG A   8       2.168   1.037  -9.290  1.00  0.94           N  \\nATOM     62  CA  ARG A   8       1.422   0.858  -8.049  1.00  0.94           C  \\nATOM     63  C   ARG A   8       2.252   1.287  -6.844  1.00  0.95           C  \\nATOM     64  CB  ARG A   8       0.983  -0.599  -7.890  1.00  0.94           C  \\nATOM     65  O   ARG A   8       1.752   1.975  -5.952  1.00  0.94           O  \\nATOM     66  CG  ARG A   8       0.099  -0.848  -6.679  1.00  0.93           C  \\nATOM     67  CD  ARG A   8      -0.388  -2.290  -6.622  1.00  0.91           C  \\nATOM     68  NE  ARG A   8       0.720  -3.226  -6.453  1.00  0.90           N  \\nATOM     69  NH1 ARG A   8       0.151  -4.546  -8.262  1.00  0.83           N  \\nATOM     70  NH2 ARG A   8       1.988  -5.063  -6.992  1.00  0.82           N  \\nATOM     71  CZ  ARG A   8       0.950  -4.276  -7.236  1.00  0.88           C  \\nATOM     72  N   LEU A   9       3.507   0.923  -6.828  1.00  0.94           N  \\nATOM     73  CA  LEU A   9       4.406   1.292  -5.740  1.00  0.94           C  \\nATOM     74  C   LEU A   9       4.529   2.807  -5.626  1.00  0.94           C  \\nATOM     75  CB  LEU A   9       5.789   0.670  -5.954  1.00  0.94           C  \\nATOM     76  O   LEU A   9       4.464   3.358  -4.525  1.00  0.94           O  \\nATOM     77  CG  LEU A   9       5.874  -0.852  -5.836  1.00  0.93           C  \\nATOM     78  CD1 LEU A   9       7.235  -1.346  -6.314  1.00  0.90           C  \\nATOM     79  CD2 LEU A   9       5.614  -1.293  -4.400  1.00  0.90           C  \\nATOM     80  N   LYS A  10       4.687   3.505  -6.743  1.00  0.94           N  \\nATOM     81  CA  LYS A  10       4.771   4.963  -6.756  1.00  0.94           C  \\nATOM     82  C   LYS A  10       3.486   5.593  -6.226  1.00  0.94           C  \\nATOM     83  CB  LYS A  10       5.059   5.471  -8.169  1.00  0.93           C  \\nATOM     84  O   LYS A  10       3.529   6.606  -5.525  1.00  0.94           O  \\nATOM     85  CG  LYS A  10       6.474   5.187  -8.653  1.00  0.86           C  \\nATOM     86  CD  LYS A  10       6.687   5.681 -10.078  1.00  0.81           C  \\nATOM     87  CE  LYS A  10       8.032   5.231 -10.632  1.00  0.73           C  \\nATOM     88  NZ  LYS A  10       8.192   5.601 -12.070  1.00  0.64           N  \\nATOM     89  N   SER A  11       2.411   4.985  -6.572  1.00  0.95           N  \\nATOM     90  CA  SER A  11       1.122   5.494  -6.115  1.00  0.95           C  \\nATOM     91  C   SER A  11       0.982   5.364  -4.602  1.00  0.95           C  \\nATOM     92  CB  SER A  11      -0.023   4.752  -6.806  1.00  0.94           C  \\nATOM     93  O   SER A  11       0.471   6.271  -3.941  1.00  0.95           O  \\nATOM     94  OG  SER A  11      -0.074   5.078  -8.185  1.00  0.85           O  \\nATOM     95  N   ILE A  12       1.402   4.277  -4.115  1.00  0.95           N  \\nATOM     96  CA  ILE A  12       1.339   4.075  -2.672  1.00  0.95           C  \\nATOM     97  C   ILE A  12       2.153   5.156  -1.964  1.00  0.95           C  \\nATOM     98  CB  ILE A  12       1.851   2.672  -2.275  1.00  0.95           C  \\nATOM     99  O   ILE A  12       1.674   5.781  -1.015  1.00  0.95           O  \\nATOM    100  CG1 ILE A  12       0.874   1.593  -2.754  1.00  0.94           C  \\nATOM    101  CG2 ILE A  12       2.065   2.584  -0.761  1.00  0.94           C  \\nATOM    102  CD1 ILE A  12       1.393   0.171  -2.590  1.00  0.93           C  \\nATOM    103  N   VAL A  13       3.368   5.374  -2.378  1.00  0.95           N  \\nATOM    104  CA  VAL A  13       4.248   6.359  -1.759  1.00  0.95           C  \\nATOM    105  C   VAL A  13       3.616   7.747  -1.852  1.00  0.95           C  \\nATOM    106  CB  VAL A  13       5.646   6.365  -2.417  1.00  0.94           C  \\nATOM    107  O   VAL A  13       3.610   8.499  -0.875  1.00  0.94           O  \\nATOM    108  CG1 VAL A  13       6.476   7.543  -1.910  1.00  0.92           C  \\nATOM    109  CG2 VAL A  13       6.366   5.045  -2.150  1.00  0.92           C  \\nATOM    110  N   ARG A  14       2.999   8.103  -2.995  1.00  0.94           N  \\nATOM    111  CA  ARG A  14       2.358   9.399  -3.196  1.00  0.94           C  \\nATOM    112  C   ARG A  14       1.173   9.576  -2.253  1.00  0.94           C  \\nATOM    113  CB  ARG A  14       1.900   9.552  -4.648  1.00  0.93           C  \\nATOM    114  O   ARG A  14       0.995  10.645  -1.666  1.00  0.94           O  \\nATOM    115  CG  ARG A  14       3.025   9.881  -5.617  1.00  0.83           C  \\nATOM    116  CD  ARG A  14       2.493  10.233  -7.000  1.00  0.77           C  \\nATOM    117  NE  ARG A  14       2.175   9.038  -7.776  1.00  0.72           N  \\nATOM    118  NH1 ARG A  14       1.319  10.189  -9.586  1.00  0.52           N  \\nATOM    119  NH2 ARG A  14       1.377   7.898  -9.603  1.00  0.47           N  \\nATOM    120  CZ  ARG A  14       1.624   9.044  -8.986  1.00  0.69           C  \\nATOM    121  N   ILE A  15       0.422   8.501  -2.187  1.00  0.95           N  \\nATOM    122  CA  ILE A  15      -0.753   8.563  -1.324  1.00  0.95           C  \\nATOM    123  C   ILE A  15      -0.318   8.787   0.123  1.00  0.95           C  \\nATOM    124  CB  ILE A  15      -1.604   7.279  -1.434  1.00  0.95           C  \\nATOM    125  O   ILE A  15      -0.862   9.652   0.814  1.00  0.94           O  \\nATOM    126  CG1 ILE A  15      -2.272   7.198  -2.812  1.00  0.93           C  \\nATOM    127  CG2 ILE A  15      -2.649   7.225  -0.316  1.00  0.93           C  \\nATOM    128  CD1 ILE A  15      -2.885   5.840  -3.124  1.00  0.92           C  \\nATOM    129  N   LEU A  16       0.678   8.053   0.590  1.00  0.95           N  \\nATOM    130  CA  LEU A  16       1.131   8.159   1.972  1.00  0.95           C  \\nATOM    131  C   LEU A  16       1.799   9.507   2.223  1.00  0.95           C  \\nATOM    132  CB  LEU A  16       2.103   7.024   2.307  1.00  0.95           C  \\nATOM    133  O   LEU A  16       1.679  10.071   3.313  1.00  0.94           O  \\nATOM    134  CG  LEU A  16       1.514   5.613   2.335  1.00  0.95           C  \\nATOM    135  CD1 LEU A  16       2.603   4.590   2.638  1.00  0.94           C  \\nATOM    136  CD2 LEU A  16       0.389   5.523   3.361  1.00  0.94           C  \\nATOM    137  N   GLU A  17       2.494  10.099   1.236  1.00  0.94           N  \\nATOM    138  CA  GLU A  17       3.161  11.391   1.366  1.00  0.93           C  \\nATOM    139  C   GLU A  17       2.147  12.525   1.494  1.00  0.93           C  \\nATOM    140  CB  GLU A  17       4.084  11.644   0.171  1.00  0.92           C  \\nATOM    141  O   GLU A  17       2.393  13.508   2.196  1.00  0.92           O  \\nATOM    142  CG  GLU A  17       5.397  10.877   0.236  1.00  0.86           C  \\nATOM    143  CD  GLU A  17       6.257  11.056  -1.005  1.00  0.81           C  \\nATOM    144  OE1 GLU A  17       5.724  11.471  -2.059  1.00  0.79           O  \\nATOM    145  OE2 GLU A  17       7.475  10.779  -0.922  1.00  0.76           O  \\nATOM    146  N   ARG A  18       1.012  12.291   0.900  1.00  0.93           N  \\nATOM    147  CA  ARG A  18       0.041  13.379   0.846  1.00  0.93           C  \\nATOM    148  C   ARG A  18      -0.936  13.299   2.014  1.00  0.92           C  \\nATOM    149  CB  ARG A  18      -0.724  13.351  -0.479  1.00  0.91           C  \\nATOM    150  O   ARG A  18      -1.610  14.280   2.335  1.00  0.91           O  \\nATOM    151  CG  ARG A  18       0.120  13.734  -1.685  1.00  0.83           C  \\nATOM    152  CD  ARG A  18      -0.674  13.643  -2.981  1.00  0.79           C  \\nATOM    153  NE  ARG A  18       0.121  14.064  -4.131  1.00  0.73           N  \\nATOM    154  NH1 ARG A  18      -1.563  13.735  -5.677  1.00  0.56           N  \\nATOM    155  NH2 ARG A  18       0.488  14.499  -6.356  1.00  0.52           N  \\nATOM    156  CZ  ARG A  18      -0.320  14.098  -5.385  1.00  0.71           C  \\nATOM    157  N   SER A  19      -0.871  12.098   2.573  1.00  0.92           N  \\nATOM    158  CA  SER A  19      -1.876  11.918   3.617  1.00  0.92           C  \\nATOM    159  C   SER A  19      -1.392  12.474   4.952  1.00  0.91           C  \\nATOM    160  CB  SER A  19      -2.232  10.439   3.770  1.00  0.91           C  \\nATOM    161  O   SER A  19      -0.252  12.233   5.354  1.00  0.90           O  \\nATOM    162  OG  SER A  19      -3.236  10.262   4.754  1.00  0.85           O  \\nATOM    163  N   LYS A  20      -2.232  13.268   5.577  1.00  0.89           N  \\nATOM    164  CA  LYS A  20      -1.937  13.776   6.914  1.00  0.89           C  \\nATOM    165  C   LYS A  20      -2.294  12.747   7.984  1.00  0.89           C  \\nATOM    166  CB  LYS A  20      -2.692  15.081   7.171  1.00  0.87           C  \\nATOM    167  O   LYS A  20      -1.790  12.812   9.107  1.00  0.87           O  \\nATOM    168  CG  LYS A  20      -2.232  16.243   6.301  1.00  0.79           C  \\nATOM    169  CD  LYS A  20      -2.983  17.524   6.638  1.00  0.76           C  \\nATOM    170  CE  LYS A  20      -2.546  18.680   5.748  1.00  0.68           C  \\nATOM    171  NZ  LYS A  20      -3.321  19.924   6.035  1.00  0.61           N  \\nATOM    172  N   GLU A  21      -3.119  11.874   7.691  1.00  0.92           N  \\nATOM    173  CA  GLU A  21      -3.568  10.810   8.583  1.00  0.92           C  \\nATOM    174  C   GLU A  21      -3.165   9.437   8.052  1.00  0.92           C  \\nATOM    175  CB  GLU A  21      -5.085  10.874   8.776  1.00  0.90           C  \\nATOM    176  O   GLU A  21      -2.897   9.282   6.859  1.00  0.92           O  \\nATOM    177  CG  GLU A  21      -5.570  12.169   9.414  1.00  0.84           C  \\nATOM    178  CD  GLU A  21      -7.046  12.143   9.776  1.00  0.80           C  \\nATOM    179  OE1 GLU A  21      -7.761  11.210   9.344  1.00  0.79           O  \\nATOM    180  OE2 GLU A  21      -7.492  13.064  10.496  1.00  0.74           O  \\nATOM    181  N   PRO A  22      -3.084   8.377   8.981  1.00  0.94           N  \\nATOM    182  CA  PRO A  22      -2.815   7.014   8.518  1.00  0.95           C  \\nATOM    183  C   PRO A  22      -3.813   6.541   7.464  1.00  0.95           C  \\nATOM    184  CB  PRO A  22      -2.933   6.178   9.795  1.00  0.94           C  \\nATOM    185  O   PRO A  22      -5.002   6.862   7.546  1.00  0.94           O  \\nATOM    186  CG  PRO A  22      -2.725   7.152  10.910  1.00  0.92           C  \\nATOM    187  CD  PRO A  22      -3.278   8.483  10.489  1.00  0.91           C  \\nATOM    188  N   VAL A  23      -3.328   5.853   6.476  1.00  0.95           N  \\nATOM    189  CA  VAL A  23      -4.146   5.289   5.408  1.00  0.95           C  \\nATOM    190  C   VAL A  23      -4.280   3.781   5.601  1.00  0.95           C  \\nATOM    191  CB  VAL A  23      -3.551   5.597   4.015  1.00  0.95           C  \\nATOM    192  O   VAL A  23      -3.279   3.063   5.649  1.00  0.95           O  \\nATOM    193  CG1 VAL A  23      -4.483   5.105   2.909  1.00  0.93           C  \\nATOM    194  CG2 VAL A  23      -3.286   7.094   3.868  1.00  0.93           C  \\nATOM    195  N   SER A  24      -5.481   3.332   5.652  1.00  0.96           N  \\nATOM    196  CA  SER A  24      -5.676   1.911   5.918  1.00  0.96           C  \\nATOM    197  C   SER A  24      -5.318   1.065   4.701  1.00  0.96           C  \\nATOM    198  CB  SER A  24      -7.123   1.637   6.332  1.00  0.95           C  \\nATOM    199  O   SER A  24      -5.389   1.541   3.566  1.00  0.95           O  \\nATOM    200  OG  SER A  24      -7.984   1.682   5.207  1.00  0.91           O  \\nATOM    201  N   GLY A  25      -4.862  -0.185   4.995  1.00  0.95           N  \\nATOM    202  CA  GLY A  25      -4.627  -1.121   3.907  1.00  0.95           C  \\nATOM    203  C   GLY A  25      -5.838  -1.315   3.014  1.00  0.95           C  \\nATOM    204  O   GLY A  25      -5.704  -1.436   1.794  1.00  0.95           O  \\nATOM    205  N   ALA A  26      -7.027  -1.352   3.583  1.00  0.95           N  \\nATOM    206  CA  ALA A  26      -8.267  -1.521   2.829  1.00  0.95           C  \\nATOM    207  C   ALA A  26      -8.486  -0.360   1.865  1.00  0.95           C  \\nATOM    208  CB  ALA A  26      -9.454  -1.650   3.780  1.00  0.94           C  \\nATOM    209  O   ALA A  26      -8.899  -0.564   0.721  1.00  0.95           O  \\nATOM    210  N   GLN A  27      -8.247   0.872   2.343  1.00  0.95           N  \\nATOM    211  CA  GLN A  27      -8.374   2.053   1.495  1.00  0.95           C  \\nATOM    212  C   GLN A  27      -7.390   2.002   0.330  1.00  0.95           C  \\nATOM    213  CB  GLN A  27      -8.154   3.327   2.313  1.00  0.94           C  \\nATOM    214  O   GLN A  27      -7.758   2.285  -0.812  1.00  0.95           O  \\nATOM    215  CG  GLN A  27      -8.313   4.610   1.508  1.00  0.86           C  \\nATOM    216  CD  GLN A  27      -8.041   5.856   2.329  1.00  0.81           C  \\nATOM    217  NE2 GLN A  27      -7.931   6.997   1.657  1.00  0.73           N  \\nATOM    218  OE1 GLN A  27      -7.932   5.794   3.558  1.00  0.78           O  \\nATOM    219  N   LEU A  28      -6.152   1.584   0.614  1.00  0.96           N  \\nATOM    220  CA  LEU A  28      -5.160   1.460  -0.449  1.00  0.96           C  \\nATOM    221  C   LEU A  28      -5.571   0.389  -1.454  1.00  0.96           C  \\nATOM    222  CB  LEU A  28      -3.786   1.125   0.138  1.00  0.95           C  \\nATOM    223  O   LEU A  28      -5.471   0.597  -2.665  1.00  0.95           O  \\nATOM    224  CG  LEU A  28      -3.084   2.248   0.903  1.00  0.94           C  \\nATOM    225  CD1 LEU A  28      -1.840   1.713   1.605  1.00  0.93           C  \\nATOM    226  CD2 LEU A  28      -2.723   3.393  -0.037  1.00  0.92           C  \\nATOM    227  N   ALA A  29      -6.047  -0.757  -0.929  1.00  0.96           N  \\nATOM    228  CA  ALA A  29      -6.458  -1.866  -1.787  1.00  0.96           C  \\nATOM    229  C   ALA A  29      -7.594  -1.448  -2.716  1.00  0.96           C  \\nATOM    230  CB  ALA A  29      -6.880  -3.064  -0.941  1.00  0.95           C  \\nATOM    231  O   ALA A  29      -7.568  -1.748  -3.912  1.00  0.95           O  \\nATOM    232  N   GLU A  30      -8.551  -0.697  -2.184  1.00  0.96           N  \\nATOM    233  CA  GLU A  30      -9.683  -0.198  -2.958  1.00  0.95           C  \\nATOM    234  C   GLU A  30      -9.232   0.819  -4.002  1.00  0.95           C  \\nATOM    235  CB  GLU A  30     -10.732   0.427  -2.035  1.00  0.94           C  \\nATOM    236  O   GLU A  30      -9.614   0.728  -5.171  1.00  0.94           O  \\nATOM    237  CG  GLU A  30     -12.002   0.863  -2.752  1.00  0.85           C  \\nATOM    238  CD  GLU A  30     -13.065   1.408  -1.812  1.00  0.79           C  \\nATOM    239  OE1 GLU A  30     -12.797   1.525  -0.595  1.00  0.77           O  \\nATOM    240  OE2 GLU A  30     -14.176   1.719  -2.297  1.00  0.74           O  \\nATOM    241  N   GLU A  31      -8.405   1.741  -3.579  1.00  0.94           N  \\nATOM    242  CA  GLU A  31      -7.962   2.816  -4.461  1.00  0.94           C  \\nATOM    243  C   GLU A  31      -7.127   2.272  -5.617  1.00  0.94           C  \\nATOM    244  CB  GLU A  31      -7.160   3.858  -3.677  1.00  0.92           C  \\nATOM    245  O   GLU A  31      -7.195   2.788  -6.734  1.00  0.93           O  \\nATOM    246  CG  GLU A  31      -6.779   5.084  -4.495  1.00  0.78           C  \\nATOM    247  CD  GLU A  31      -6.327   6.258  -3.642  1.00  0.72           C  \\nATOM    248  OE1 GLU A  31      -6.689   6.313  -2.444  1.00  0.68           O  \\nATOM    249  OE2 GLU A  31      -5.607   7.131  -4.175  1.00  0.66           O  \\nATOM    250  N   LEU A  32      -6.416   1.246  -5.373  1.00  0.94           N  \\nATOM    251  CA  LEU A  32      -5.473   0.766  -6.378  1.00  0.94           C  \\nATOM    252  C   LEU A  32      -5.997  -0.495  -7.056  1.00  0.94           C  \\nATOM    253  CB  LEU A  32      -4.108   0.489  -5.743  1.00  0.94           C  \\nATOM    254  O   LEU A  32      -5.314  -1.080  -7.900  1.00  0.92           O  \\nATOM    255  CG  LEU A  32      -3.381   1.694  -5.143  1.00  0.92           C  \\nATOM    256  CD1 LEU A  32      -2.151   1.238  -4.366  1.00  0.89           C  \\nATOM    257  CD2 LEU A  32      -2.994   2.684  -6.236  1.00  0.89           C  \\nATOM    258  N   SER A  33      -7.179  -0.926  -6.700  1.00  0.95           N  \\nATOM    259  CA  SER A  33      -7.866  -2.073  -7.284  1.00  0.94           C  \\nATOM    260  C   SER A  33      -7.016  -3.336  -7.185  1.00  0.94           C  \\nATOM    261  CB  SER A  33      -8.218  -1.800  -8.747  1.00  0.93           C  \\nATOM    262  O   SER A  33      -6.850  -4.058  -8.170  1.00  0.93           O  \\nATOM    263  OG  SER A  33      -9.141  -0.730  -8.851  1.00  0.85           O  \\nATOM    264  N   VAL A  34      -6.498  -3.609  -5.962  1.00  0.94           N  \\nATOM    265  CA  VAL A  34      -5.781  -4.842  -5.657  1.00  0.94           C  \\nATOM    266  C   VAL A  34      -6.237  -5.385  -4.304  1.00  0.94           C  \\nATOM    267  CB  VAL A  34      -4.251  -4.624  -5.655  1.00  0.94           C  \\nATOM    268  O   VAL A  34      -7.002  -4.730  -3.592  1.00  0.94           O  \\nATOM    269  CG1 VAL A  34      -3.758  -4.250  -7.052  1.00  0.91           C  \\nATOM    270  CG2 VAL A  34      -3.867  -3.547  -4.643  1.00  0.90           C  \\nATOM    271  N   SER A  35      -5.827  -6.609  -4.026  1.00  0.95           N  \\nATOM    272  CA  SER A  35      -6.171  -7.206  -2.739  1.00  0.95           C  \\nATOM    273  C   SER A  35      -5.359  -6.585  -1.607  1.00  0.95           C  \\nATOM    274  CB  SER A  35      -5.943  -8.717  -2.772  1.00  0.94           C  \\nATOM    275  O   SER A  35      -4.302  -5.997  -1.844  1.00  0.95           O  \\nATOM    276  OG  SER A  35      -4.558  -9.017  -2.783  1.00  0.87           O  \\nATOM    277  N   ARG A  36      -5.827  -6.725  -0.457  1.00  0.96           N  \\nATOM    278  CA  ARG A  36      -5.102  -6.265   0.723  1.00  0.96           C  \\nATOM    279  C   ARG A  36      -3.753  -6.966   0.845  1.00  0.96           C  \\nATOM    280  CB  ARG A  36      -5.930  -6.500   1.988  1.00  0.93           C  \\nATOM    281  O   ARG A  36      -2.774  -6.366   1.295  1.00  0.95           O  \\nATOM    282  CG  ARG A  36      -7.137  -5.584   2.113  1.00  0.76           C  \\nATOM    283  CD  ARG A  36      -7.863  -5.785   3.436  1.00  0.72           C  \\nATOM    284  NE  ARG A  36      -7.036  -5.386   4.571  1.00  0.69           N  \\nATOM    285  NH1 ARG A  36      -8.295  -6.510   6.149  1.00  0.58           N  \\nATOM    286  NH2 ARG A  36      -6.443  -5.319   6.789  1.00  0.52           N  \\nATOM    287  CZ  ARG A  36      -7.260  -5.739   5.834  1.00  0.64           C  \\nATOM    288  N   GLN A  37      -3.743  -8.252   0.465  1.00  0.96           N  \\nATOM    289  CA  GLN A  37      -2.496  -9.008   0.516  1.00  0.96           C  \\nATOM    290  C   GLN A  37      -1.431  -8.374  -0.374  1.00  0.96           C  \\nATOM    291  CB  GLN A  37      -2.731 -10.461   0.100  1.00  0.94           C  \\nATOM    292  O   GLN A  37      -0.259  -8.311   0.000  1.00  0.96           O  \\nATOM    293  CG  GLN A  37      -1.483 -11.331   0.172  1.00  0.79           C  \\nATOM    294  CD  GLN A  37      -0.984 -11.526   1.592  1.00  0.72           C  \\nATOM    295  NE2 GLN A  37       0.273 -11.933   1.728  1.00  0.59           N  \\nATOM    296  OE1 GLN A  37      -1.723 -11.311   2.558  1.00  0.68           O  \\nATOM    297  N   VAL A  38      -1.846  -7.916  -1.505  1.00  0.96           N  \\nATOM    298  CA  VAL A  38      -0.920  -7.259  -2.421  1.00  0.96           C  \\nATOM    299  C   VAL A  38      -0.372  -5.987  -1.779  1.00  0.96           C  \\nATOM    300  CB  VAL A  38      -1.598  -6.925  -3.769  1.00  0.95           C  \\nATOM    301  O   VAL A  38       0.821  -5.695  -1.884  1.00  0.96           O  \\nATOM    302  CG1 VAL A  38      -0.719  -5.992  -4.599  1.00  0.93           C  \\nATOM    303  CG2 VAL A  38      -1.903  -8.206  -4.544  1.00  0.92           C  \\nATOM    304  N   ILE A  39      -1.209  -5.306  -1.053  1.00  0.96           N  \\nATOM    305  CA  ILE A  39      -0.793  -4.073  -0.393  1.00  0.96           C  \\nATOM    306  C   ILE A  39       0.258  -4.386   0.670  1.00  0.96           C  \\nATOM    307  CB  ILE A  39      -1.995  -3.339   0.243  1.00  0.96           C  \\nATOM    308  O   ILE A  39       1.270  -3.690   0.775  1.00  0.96           O  \\nATOM    309  CG1 ILE A  39      -2.963  -2.859  -0.845  1.00  0.94           C  \\nATOM    310  CG2 ILE A  39      -1.518  -2.168   1.106  1.00  0.94           C  \\nATOM    311  CD1 ILE A  39      -2.330  -1.930  -1.871  1.00  0.91           C  \\nATOM    312  N   VAL A  40       0.043  -5.399   1.488  1.00  0.96           N  \\nATOM    313  CA  VAL A  40       0.972  -5.794   2.541  1.00  0.96           C  \\nATOM    314  C   VAL A  40       2.327  -6.144   1.931  1.00  0.96           C  \\nATOM    315  CB  VAL A  40       0.431  -6.988   3.358  1.00  0.96           C  \\nATOM    316  O   VAL A  40       3.371  -5.736   2.446  1.00  0.96           O  \\nATOM    317  CG1 VAL A  40       1.514  -7.550   4.277  1.00  0.89           C  \\nATOM    318  CG2 VAL A  40      -0.796  -6.570   4.166  1.00  0.89           C  \\nATOM    319  N   GLN A  41       2.292  -6.822   0.813  1.00  0.96           N  \\nATOM    320  CA  GLN A  41       3.523  -7.209   0.132  1.00  0.96           C  \\nATOM    321  C   GLN A  41       4.247  -5.990  -0.431  1.00  0.96           C  \\nATOM    322  CB  GLN A  41       3.226  -8.207  -0.988  1.00  0.95           C  \\nATOM    323  O   GLN A  41       5.474  -5.899  -0.355  1.00  0.95           O  \\nATOM    324  CG  GLN A  41       2.796  -9.580  -0.490  1.00  0.86           C  \\nATOM    325  CD  GLN A  41       2.352 -10.500  -1.612  1.00  0.79           C  \\nATOM    326  NE2 GLN A  41       2.124 -11.767  -1.286  1.00  0.69           N  \\nATOM    327  OE1 GLN A  41       2.214 -10.074  -2.764  1.00  0.77           O  \\nATOM    328  N   ASP A  42       3.546  -5.116  -0.994  1.00  0.95           N  \\nATOM    329  CA  ASP A  42       4.127  -3.908  -1.573  1.00  0.96           C  \\nATOM    330  C   ASP A  42       4.734  -3.018  -0.491  1.00  0.96           C  \\nATOM    331  CB  ASP A  42       3.073  -3.131  -2.363  1.00  0.95           C  \\nATOM    332  O   ASP A  42       5.812  -2.450  -0.679  1.00  0.95           O  \\nATOM    333  CG  ASP A  42       2.766  -3.754  -3.714  1.00  0.94           C  \\nATOM    334  OD1 ASP A  42       3.564  -4.587  -4.197  1.00  0.91           O  \\nATOM    335  OD2 ASP A  42       1.719  -3.407  -4.302  1.00  0.92           O  \\nATOM    336  N   ILE A  43       4.011  -2.914   0.635  1.00  0.96           N  \\nATOM    337  CA  ILE A  43       4.516  -2.100   1.735  1.00  0.96           C  \\nATOM    338  C   ILE A  43       5.810  -2.706   2.273  1.00  0.96           C  \\nATOM    339  CB  ILE A  43       3.473  -1.972   2.868  1.00  0.96           C  \\nATOM    340  O   ILE A  43       6.773  -1.985   2.546  1.00  0.96           O  \\nATOM    341  CG1 ILE A  43       2.294  -1.104   2.413  1.00  0.94           C  \\nATOM    342  CG2 ILE A  43       4.118  -1.401   4.134  1.00  0.93           C  \\nATOM    343  CD1 ILE A  43       2.657   0.355   2.173  1.00  0.91           C  \\nATOM    344  N   ALA A  44       5.857  -4.045   2.406  1.00  0.96           N  \\nATOM    345  CA  ALA A  44       7.082  -4.722   2.826  1.00  0.96           C  \\nATOM    346  C   ALA A  44       8.225  -4.439   1.855  1.00  0.96           C  \\nATOM    347  CB  ALA A  44       6.845  -6.226   2.941  1.00  0.96           C  \\nATOM    348  O   ALA A  44       9.359  -4.200   2.275  1.00  0.96           O  \\nATOM    349  N   TYR A  45       7.877  -4.412   0.632  1.00  0.95           N  \\nATOM    350  CA  TYR A  45       8.881  -4.149  -0.393  1.00  0.95           C  \\nATOM    351  C   TYR A  45       9.366  -2.706  -0.324  1.00  0.95           C  \\nATOM    352  CB  TYR A  45       8.317  -4.445  -1.786  1.00  0.95           C  \\nATOM    353  O   TYR A  45      10.570  -2.445  -0.384  1.00  0.95           O  \\nATOM    354  CG  TYR A  45       9.321  -4.259  -2.898  1.00  0.93           C  \\nATOM    355  CD1 TYR A  45      10.445  -5.077  -2.992  1.00  0.89           C  \\nATOM    356  CD2 TYR A  45       9.147  -3.267  -3.857  1.00  0.88           C  \\nATOM    357  CE1 TYR A  45      11.373  -4.909  -4.014  1.00  0.88           C  \\nATOM    358  CE2 TYR A  45      10.069  -3.090  -4.884  1.00  0.88           C  \\nATOM    359  OH  TYR A  45      12.092  -3.744  -5.968  1.00  0.79           O  \\nATOM    360  CZ  TYR A  45      11.177  -3.915  -4.954  1.00  0.86           C  \\nATOM    361  N   LEU A  46       8.523  -1.800  -0.239  1.00  0.95           N  \\nATOM    362  CA  LEU A  46       8.894  -0.393  -0.123  1.00  0.95           C  \\nATOM    363  C   LEU A  46       9.791  -0.166   1.089  1.00  0.95           C  \\nATOM    364  CB  LEU A  46       7.644   0.484  -0.019  1.00  0.95           C  \\nATOM    365  O   LEU A  46      10.746   0.612   1.023  1.00  0.95           O  \\nATOM    366  CG  LEU A  46       6.846   0.684  -1.308  1.00  0.95           C  \\nATOM    367  CD1 LEU A  46       5.516   1.367  -1.009  1.00  0.93           C  \\nATOM    368  CD2 LEU A  46       7.654   1.493  -2.317  1.00  0.93           C  \\nATOM    369  N   ARG A  47       9.533  -0.899   2.192  1.00  0.96           N  \\nATOM    370  CA  ARG A  47      10.388  -0.802   3.371  1.00  0.96           C  \\nATOM    371  C   ARG A  47      11.792  -1.316   3.072  1.00  0.96           C  \\nATOM    372  CB  ARG A  47       9.782  -1.580   4.541  1.00  0.95           C  \\nATOM    373  O   ARG A  47      12.781  -0.724   3.507  1.00  0.95           O  \\nATOM    374  CG  ARG A  47       8.562  -0.915   5.158  1.00  0.93           C  \\nATOM    375  CD  ARG A  47       8.006  -1.724   6.321  1.00  0.91           C  \\nATOM    376  NE  ARG A  47       6.965  -0.993   7.038  1.00  0.90           N  \\nATOM    377  NH1 ARG A  47       5.820  -2.880   7.719  1.00  0.83           N  \\nATOM    378  NH2 ARG A  47       5.059  -0.798   8.304  1.00  0.82           N  \\nATOM    379  CZ  ARG A  47       5.950  -1.559   7.685  1.00  0.87           C  \\nATOM    380  N   SER A  48      11.826  -2.348   2.345  1.00  0.96           N  \\nATOM    381  CA  SER A  48      13.128  -2.908   2.002  1.00  0.96           C  \\nATOM    382  C   SER A  48      13.932  -1.948   1.131  1.00  0.95           C  \\nATOM    383  CB  SER A  48      12.963  -4.247   1.280  1.00  0.95           C  \\nATOM    384  O   SER A  48      15.162  -2.018   1.091  1.00  0.94           O  \\nATOM    385  OG  SER A  48      12.604  -4.046  -0.076  1.00  0.90           O  \\nATOM    386  N   LEU A  49      13.231  -1.034   0.453  1.00  0.95           N  \\nATOM    387  CA  LEU A  49      13.905  -0.053  -0.390  1.00  0.94           C  \\nATOM    388  C   LEU A  49      14.341   1.158   0.427  1.00  0.94           C  \\nATOM    389  CB  LEU A  49      12.990   0.390  -1.534  1.00  0.94           C  \\nATOM    390  O   LEU A  49      14.977   2.073  -0.102  1.00  0.92           O  \\nATOM    391  CG  LEU A  49      12.694  -0.655  -2.610  1.00  0.89           C  \\nATOM    392  CD1 LEU A  49      11.739  -0.086  -3.654  1.00  0.83           C  \\nATOM    393  CD2 LEU A  49      13.987  -1.130  -3.264  1.00  0.83           C  \\nATOM    394  N   GLY A  50      13.866   1.216   1.688  1.00  0.94           N  \\nATOM    395  CA  GLY A  50      14.340   2.283   2.555  1.00  0.94           C  \\nATOM    396  C   GLY A  50      13.253   3.271   2.933  1.00  0.94           C  \\nATOM    397  O   GLY A  50      13.507   4.234   3.660  1.00  0.93           O  \\nATOM    398  N   TYR A  51      12.066   3.146   2.438  1.00  0.94           N  \\nATOM    399  CA  TYR A  51      10.976   4.022   2.852  1.00  0.94           C  \\nATOM    400  C   TYR A  51      10.592   3.766   4.305  1.00  0.94           C  \\nATOM    401  CB  TYR A  51       9.755   3.826   1.948  1.00  0.94           C  \\nATOM    402  O   TYR A  51      10.462   2.614   4.725  1.00  0.93           O  \\nATOM    403  CG  TYR A  51       9.965   4.306   0.532  1.00  0.93           C  \\nATOM    404  CD1 TYR A  51       9.759   5.641   0.191  1.00  0.92           C  \\nATOM    405  CD2 TYR A  51      10.369   3.426  -0.466  1.00  0.91           C  \\nATOM    406  CE1 TYR A  51       9.950   6.088  -1.113  1.00  0.91           C  \\nATOM    407  CE2 TYR A  51      10.563   3.862  -1.773  1.00  0.91           C  \\nATOM    408  OH  TYR A  51      10.542   5.629  -3.378  1.00  0.87           O  \\nATOM    409  CZ  TYR A  51      10.352   5.192  -2.086  1.00  0.91           C  \\nATOM    410  N   ASN A  52      10.420   4.821   5.085  1.00  0.95           N  \\nATOM    411  CA  ASN A  52      10.053   4.726   6.494  1.00  0.95           C  \\nATOM    412  C   ASN A  52       8.538   4.676   6.676  1.00  0.95           C  \\nATOM    413  CB  ASN A  52      10.645   5.895   7.284  1.00  0.94           C  \\nATOM    414  O   ASN A  52       7.949   5.587   7.261  1.00  0.94           O  \\nATOM    415  CG  ASN A  52      10.650   5.646   8.779  1.00  0.86           C  \\nATOM    416  ND2 ASN A  52      10.945   6.685   9.552  1.00  0.77           N  \\nATOM    417  OD1 ASN A  52      10.391   4.530   9.236  1.00  0.75           O  \\nATOM    418  N   ILE A  53       7.927   3.544   6.192  1.00  0.95           N  \\nATOM    419  CA  ILE A  53       6.491   3.328   6.329  1.00  0.96           C  \\nATOM    420  C   ILE A  53       6.203   2.592   7.636  1.00  0.95           C  \\nATOM    421  CB  ILE A  53       5.922   2.534   5.131  1.00  0.95           C  \\nATOM    422  O   ILE A  53       6.691   1.480   7.850  1.00  0.94           O  \\nATOM    423  CG1 ILE A  53       6.253   3.246   3.814  1.00  0.94           C  \\nATOM    424  CG2 ILE A  53       4.411   2.337   5.283  1.00  0.94           C  \\nATOM    425  CD1 ILE A  53       5.907   2.438   2.570  1.00  0.93           C  \\nATOM    426  N   VAL A  54       5.433   3.119   8.478  1.00  0.95           N  \\nATOM    427  CA  VAL A  54       5.108   2.529   9.773  1.00  0.95           C  \\nATOM    428  C   VAL A  54       3.643   2.100   9.792  1.00  0.95           C  \\nATOM    429  CB  VAL A  54       5.390   3.512  10.931  1.00  0.94           C  \\nATOM    430  O   VAL A  54       2.772   2.821   9.301  1.00  0.95           O  \\nATOM    431  CG1 VAL A  54       4.984   2.900  12.270  1.00  0.78           C  \\nATOM    432  CG2 VAL A  54       6.866   3.908  10.947  1.00  0.78           C  \\nATOM    433  N   ALA A  55       3.432   0.982  10.239  1.00  0.95           N  \\nATOM    434  CA  ALA A  55       2.082   0.455  10.426  1.00  0.95           C  \\nATOM    435  C   ALA A  55       1.522   0.854  11.788  1.00  0.94           C  \\nATOM    436  CB  ALA A  55       2.079  -1.064  10.277  1.00  0.94           C  \\nATOM    437  O   ALA A  55       2.197   0.713  12.810  1.00  0.93           O  \\nATOM    438  N   THR A  56       0.341   1.421  11.825  1.00  0.93           N  \\nATOM    439  CA  THR A  56      -0.410   1.784  13.022  1.00  0.93           C  \\nATOM    440  C   THR A  56      -1.736   1.030  13.077  1.00  0.93           C  \\nATOM    441  CB  THR A  56      -0.676   3.299  13.077  1.00  0.92           C  \\nATOM    442  O   THR A  56      -2.134   0.390  12.101  1.00  0.92           O  \\nATOM    443  CG2 THR A  56       0.574   4.090  12.703  1.00  0.87           C  \\nATOM    444  OG1 THR A  56      -1.727   3.628  12.161  1.00  0.88           O  \\nATOM    445  N   PRO A  57      -2.443   0.960  14.218  1.00  0.92           N  \\nATOM    446  CA  PRO A  57      -3.765   0.330  14.252  1.00  0.92           C  \\nATOM    447  C   PRO A  57      -4.720   0.906  13.209  1.00  0.91           C  \\nATOM    448  CB  PRO A  57      -4.261   0.628  15.669  1.00  0.91           C  \\nATOM    449  O   PRO A  57      -5.668   0.234  12.796  1.00  0.89           O  \\nATOM    450  CG  PRO A  57      -3.018   0.739  16.493  1.00  0.89           C  \\nATOM    451  CD  PRO A  57      -1.947   1.378  15.657  1.00  0.88           C  \\nATOM    452  N   ARG A  58      -4.409   2.177  12.763  1.00  0.94           N  \\nATOM    453  CA  ARG A  58      -5.333   2.810  11.827  1.00  0.94           C  \\nATOM    454  C   ARG A  58      -4.830   2.684  10.392  1.00  0.93           C  \\nATOM    455  CB  ARG A  58      -5.535   4.284  12.183  1.00  0.92           C  \\nATOM    456  O   ARG A  58      -5.523   3.071   9.450  1.00  0.92           O  \\nATOM    457  CG  ARG A  58      -6.268   4.505  13.497  1.00  0.86           C  \\nATOM    458  CD  ARG A  58      -6.565   5.979  13.736  1.00  0.82           C  \\nATOM    459  NE  ARG A  58      -5.348   6.735  14.015  1.00  0.78           N  \\nATOM    460  NH1 ARG A  58      -6.424   8.761  14.291  1.00  0.64           N  \\nATOM    461  NH2 ARG A  58      -4.146   8.628  14.512  1.00  0.59           N  \\nATOM    462  CZ  ARG A  58      -5.309   8.040  14.272  1.00  0.75           C  \\nATOM    463  N   GLY A  59      -3.708   2.232  10.203  1.00  0.95           N  \\nATOM    464  CA  GLY A  59      -3.187   2.082   8.853  1.00  0.95           C  \\nATOM    465  C   GLY A  59      -1.706   2.395   8.747  1.00  0.95           C  \\nATOM    466  O   GLY A  59      -0.951   2.177   9.697  1.00  0.95           O  \\nATOM    467  N   TYR A  60      -1.254   2.921   7.636  1.00  0.96           N  \\nATOM    468  CA  TYR A  60       0.150   3.161   7.325  1.00  0.96           C  \\nATOM    469  C   TYR A  60       0.448   4.654   7.267  1.00  0.96           C  \\nATOM    470  CB  TYR A  60       0.527   2.501   5.995  1.00  0.96           C  \\nATOM    471  O   TYR A  60      -0.390   5.444   6.826  1.00  0.95           O  \\nATOM    472  CG  TYR A  60       0.340   1.003   5.986  1.00  0.95           C  \\nATOM    473  CD1 TYR A  60       1.277   0.161   6.580  1.00  0.94           C  \\nATOM    474  CD2 TYR A  60      -0.773   0.427   5.383  1.00  0.94           C  \\nATOM    475  CE1 TYR A  60       1.110  -1.220   6.572  1.00  0.94           C  \\nATOM    476  CE2 TYR A  60      -0.950  -0.952   5.369  1.00  0.94           C  \\nATOM    477  OH  TYR A  60      -0.175  -3.133   5.956  1.00  0.90           O  \\nATOM    478  CZ  TYR A  60      -0.005  -1.766   5.966  1.00  0.93           C  \\nATOM    479  N   VAL A  61       1.550   5.015   7.728  1.00  0.95           N  \\nATOM    480  CA  VAL A  61       2.032   6.390   7.632  1.00  0.95           C  \\nATOM    481  C   VAL A  61       3.474   6.398   7.129  1.00  0.95           C  \\nATOM    482  CB  VAL A  61       1.937   7.121   8.990  1.00  0.93           C  \\nATOM    483  O   VAL A  61       4.253   5.496   7.444  1.00  0.94           O  \\nATOM    484  CG1 VAL A  61       0.491   7.164   9.480  1.00  0.76           C  \\nATOM    485  CG2 VAL A  61       2.834   6.443  10.024  1.00  0.76           C  \\nATOM    486  N   LEU A  62       3.739   7.327   6.218  1.00  0.94           N  \\nATOM    487  CA  LEU A  62       5.124   7.580   5.836  1.00  0.95           C  \\nATOM    488  C   LEU A  62       5.791   8.540   6.815  1.00  0.94           C  \\nATOM    489  CB  LEU A  62       5.193   8.151   4.417  1.00  0.94           C  \\nATOM    490  O   LEU A  62       5.520   9.743   6.794  1.00  0.92           O  \\nATOM    491  CG  LEU A  62       6.592   8.335   3.827  1.00  0.89           C  \\nATOM    492  CD1 LEU A  62       7.305   6.990   3.725  1.00  0.82           C  \\nATOM    493  CD2 LEU A  62       6.512   9.009   2.462  1.00  0.82           C  \\nATOM    494  N   ALA A  63       6.582   7.975   7.724  1.00  0.91           N  \\nATOM    495  CA  ALA A  63       7.230   8.763   8.769  1.00  0.91           C  \\nATOM    496  C   ALA A  63       8.446   9.506   8.221  1.00  0.88           C  \\nATOM    497  CB  ALA A  63       7.639   7.866   9.935  1.00  0.87           C  \\nATOM    498  O   ALA A  63       9.135   9.008   7.328  1.00  0.84           O  \\nATOM    499  N   GLY A  64       8.825  10.807   8.780  1.00  0.79           N  \\nATOM    500  CA  GLY A  64      10.009  11.560   8.398  1.00  0.77           C  \\nATOM    501  C   GLY A  64       9.818  12.369   7.128  1.00  0.76           C  \\nATOM    502  O   GLY A  64      10.790  12.843   6.536  1.00  0.70           O  \\nATOM    503  N   GLY A  65       8.362  12.406   6.601  1.00  0.54           N  \\nATOM    504  CA  GLY A  65       8.110  13.341   5.516  1.00  0.54           C  \\nATOM    505  C   GLY A  65       7.686  14.716   5.998  1.00  0.53           C  \\nATOM    506  O   GLY A  65       7.115  14.850   7.082  1.00  0.51           O  \\nTER     507      GLY A  65\\nEND\\n'"
      ]
     },
     "execution_count": 6,
     "metadata": {},
     "output_type": "execute_result"
    }
   ],
   "source": [
    "results['pdb_string']"
   ]
  },
  {
   "cell_type": "markdown",
   "metadata": {},
   "source": [
    "## 7. Batch Processing Multiple Sequences"
   ]
  },
  {
   "cell_type": "code",
   "execution_count": null,
   "metadata": {},
   "outputs": [],
   "source": [
    "# Example: Process multiple sequences\n",
    "sequences = [\n",
    "    \"MKTVRQERLKSIVRILERSKEPVSGAQLAEELSVSRQVIVQDIAYLRSLGYNIVATPRGYVLAGG\",\n",
    "    \"KALTARQQEVFDLIRDHISQTGMPPTRAEIAQRLGFRSPNAAEEHLKALARKGVIEIVSGASRGIRLLQEE\"\n",
    "]\n",
    "\n",
    "for i, seq in enumerate(sequences):\n",
    "    print(f\"\\nProcessing sequence {i+1}...\")\n",
    "    result = process_sequence_full_pipeline(seq)\n",
    "    \n",
    "    # Save structure\n",
    "    pdb_file = output_dir / f\"structure_{i+1}.pdb\"\n",
    "    with open(pdb_file, 'w') as f:\n",
    "        f.write(result['pdb_string'])\n",
    "    print(f\"  Saved to: {pdb_file}\")\n",
    "    print(f\"  Mean pLDDT: {result['mean_plddt']:.2f}\")"
   ]
  }
 ],
 "metadata": {
  "kernelspec": {
   "display_name": "interplm",
   "language": "python",
   "name": "python3"
  },
  "language_info": {
   "codemirror_mode": {
    "name": "ipython",
    "version": 3
   },
   "file_extension": ".py",
   "mimetype": "text/x-python",
   "name": "python",
   "nbconvert_exporter": "python",
   "pygments_lexer": "ipython3",
   "version": "3.11.13"
  }
 },
 "nbformat": 4,
 "nbformat_minor": 4
}
